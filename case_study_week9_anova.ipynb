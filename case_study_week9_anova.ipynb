{
 "cells": [
  {
   "cell_type": "code",
   "execution_count": 1,
   "id": "85d1d1c2",
   "metadata": {},
   "outputs": [],
   "source": [
    "import numpy as np\n",
    "import pandas as pd\n",
    "import seaborn as sns\n",
    "import matplotlib.pyplot as plt\n",
    "import warnings\n",
    "warnings.filterwarnings('ignore')\n",
    "import scipy.stats as stat"
   ]
  },
  {
   "cell_type": "code",
   "execution_count": 2,
   "id": "429a6d97",
   "metadata": {},
   "outputs": [],
   "source": [
    "df=pd.read_csv('D:/ICT kerala/week9/Sales_data_zone_wise.csv')"
   ]
  },
  {
   "cell_type": "code",
   "execution_count": 3,
   "id": "18086fbf",
   "metadata": {},
   "outputs": [
    {
     "data": {
      "text/html": [
       "<div>\n",
       "<style scoped>\n",
       "    .dataframe tbody tr th:only-of-type {\n",
       "        vertical-align: middle;\n",
       "    }\n",
       "\n",
       "    .dataframe tbody tr th {\n",
       "        vertical-align: top;\n",
       "    }\n",
       "\n",
       "    .dataframe thead th {\n",
       "        text-align: right;\n",
       "    }\n",
       "</style>\n",
       "<table border=\"1\" class=\"dataframe\">\n",
       "  <thead>\n",
       "    <tr style=\"text-align: right;\">\n",
       "      <th></th>\n",
       "      <th>Month</th>\n",
       "      <th>Zone - A</th>\n",
       "      <th>Zone - B</th>\n",
       "      <th>Zone - C</th>\n",
       "      <th>Zone - D</th>\n",
       "    </tr>\n",
       "  </thead>\n",
       "  <tbody>\n",
       "    <tr>\n",
       "      <th>0</th>\n",
       "      <td>Month - 1</td>\n",
       "      <td>1483525</td>\n",
       "      <td>1748451</td>\n",
       "      <td>1523308</td>\n",
       "      <td>2267260</td>\n",
       "    </tr>\n",
       "    <tr>\n",
       "      <th>1</th>\n",
       "      <td>Month - 2</td>\n",
       "      <td>1238428</td>\n",
       "      <td>1707421</td>\n",
       "      <td>2212113</td>\n",
       "      <td>1994341</td>\n",
       "    </tr>\n",
       "    <tr>\n",
       "      <th>2</th>\n",
       "      <td>Month - 3</td>\n",
       "      <td>1860771</td>\n",
       "      <td>2091194</td>\n",
       "      <td>1282374</td>\n",
       "      <td>1241600</td>\n",
       "    </tr>\n",
       "    <tr>\n",
       "      <th>3</th>\n",
       "      <td>Month - 4</td>\n",
       "      <td>1871571</td>\n",
       "      <td>1759617</td>\n",
       "      <td>2290580</td>\n",
       "      <td>2252681</td>\n",
       "    </tr>\n",
       "    <tr>\n",
       "      <th>4</th>\n",
       "      <td>Month - 5</td>\n",
       "      <td>1244922</td>\n",
       "      <td>1606010</td>\n",
       "      <td>1818334</td>\n",
       "      <td>1326062</td>\n",
       "    </tr>\n",
       "  </tbody>\n",
       "</table>\n",
       "</div>"
      ],
      "text/plain": [
       "       Month  Zone - A  Zone - B  Zone - C  Zone - D\n",
       "0  Month - 1   1483525   1748451   1523308   2267260\n",
       "1  Month - 2   1238428   1707421   2212113   1994341\n",
       "2  Month - 3   1860771   2091194   1282374   1241600\n",
       "3  Month - 4   1871571   1759617   2290580   2252681\n",
       "4  Month - 5   1244922   1606010   1818334   1326062"
      ]
     },
     "execution_count": 3,
     "metadata": {},
     "output_type": "execute_result"
    }
   ],
   "source": [
    "df.head()"
   ]
  },
  {
   "cell_type": "code",
   "execution_count": 4,
   "id": "51bab3bb",
   "metadata": {},
   "outputs": [
    {
     "data": {
      "text/html": [
       "<div>\n",
       "<style scoped>\n",
       "    .dataframe tbody tr th:only-of-type {\n",
       "        vertical-align: middle;\n",
       "    }\n",
       "\n",
       "    .dataframe tbody tr th {\n",
       "        vertical-align: top;\n",
       "    }\n",
       "\n",
       "    .dataframe thead th {\n",
       "        text-align: right;\n",
       "    }\n",
       "</style>\n",
       "<table border=\"1\" class=\"dataframe\">\n",
       "  <thead>\n",
       "    <tr style=\"text-align: right;\">\n",
       "      <th></th>\n",
       "      <th>Month</th>\n",
       "      <th>Zone - A</th>\n",
       "      <th>Zone - B</th>\n",
       "      <th>Zone - C</th>\n",
       "      <th>Zone - D</th>\n",
       "    </tr>\n",
       "  </thead>\n",
       "  <tbody>\n",
       "    <tr>\n",
       "      <th>24</th>\n",
       "      <td>Month - 25</td>\n",
       "      <td>1256333</td>\n",
       "      <td>1622671</td>\n",
       "      <td>1521792</td>\n",
       "      <td>1695122</td>\n",
       "    </tr>\n",
       "    <tr>\n",
       "      <th>25</th>\n",
       "      <td>Month - 26</td>\n",
       "      <td>1422853</td>\n",
       "      <td>1715465</td>\n",
       "      <td>1853636</td>\n",
       "      <td>1520406</td>\n",
       "    </tr>\n",
       "    <tr>\n",
       "      <th>26</th>\n",
       "      <td>Month - 27</td>\n",
       "      <td>1384426</td>\n",
       "      <td>1983163</td>\n",
       "      <td>1611169</td>\n",
       "      <td>1289160</td>\n",
       "    </tr>\n",
       "    <tr>\n",
       "      <th>27</th>\n",
       "      <td>Month - 28</td>\n",
       "      <td>1616640</td>\n",
       "      <td>1547991</td>\n",
       "      <td>2128022</td>\n",
       "      <td>2178267</td>\n",
       "    </tr>\n",
       "    <tr>\n",
       "      <th>28</th>\n",
       "      <td>Month - 29</td>\n",
       "      <td>1310654</td>\n",
       "      <td>1660092</td>\n",
       "      <td>1947119</td>\n",
       "      <td>1854412</td>\n",
       "    </tr>\n",
       "  </tbody>\n",
       "</table>\n",
       "</div>"
      ],
      "text/plain": [
       "         Month  Zone - A  Zone - B  Zone - C  Zone - D\n",
       "24  Month - 25   1256333   1622671   1521792   1695122\n",
       "25  Month - 26   1422853   1715465   1853636   1520406\n",
       "26  Month - 27   1384426   1983163   1611169   1289160\n",
       "27  Month - 28   1616640   1547991   2128022   2178267\n",
       "28  Month - 29   1310654   1660092   1947119   1854412"
      ]
     },
     "execution_count": 4,
     "metadata": {},
     "output_type": "execute_result"
    }
   ],
   "source": [
    "df.tail()"
   ]
  },
  {
   "cell_type": "code",
   "execution_count": 5,
   "id": "10ca2aff",
   "metadata": {},
   "outputs": [
    {
     "name": "stdout",
     "output_type": "stream",
     "text": [
      "<class 'pandas.core.frame.DataFrame'>\n",
      "RangeIndex: 29 entries, 0 to 28\n",
      "Data columns (total 5 columns):\n",
      " #   Column    Non-Null Count  Dtype \n",
      "---  ------    --------------  ----- \n",
      " 0   Month     29 non-null     object\n",
      " 1   Zone - A  29 non-null     int64 \n",
      " 2   Zone - B  29 non-null     int64 \n",
      " 3   Zone - C  29 non-null     int64 \n",
      " 4   Zone - D  29 non-null     int64 \n",
      "dtypes: int64(4), object(1)\n",
      "memory usage: 1.3+ KB\n"
     ]
    }
   ],
   "source": [
    "df.info()"
   ]
  },
  {
   "cell_type": "code",
   "execution_count": 6,
   "id": "dad5e267",
   "metadata": {},
   "outputs": [
    {
     "data": {
      "text/plain": [
       "(29, 5)"
      ]
     },
     "execution_count": 6,
     "metadata": {},
     "output_type": "execute_result"
    }
   ],
   "source": [
    "df.shape"
   ]
  },
  {
   "cell_type": "code",
   "execution_count": 7,
   "id": "4c76d645",
   "metadata": {},
   "outputs": [
    {
     "data": {
      "text/plain": [
       "145"
      ]
     },
     "execution_count": 7,
     "metadata": {},
     "output_type": "execute_result"
    }
   ],
   "source": [
    "df.size"
   ]
  },
  {
   "cell_type": "code",
   "execution_count": 8,
   "id": "16c308b2",
   "metadata": {},
   "outputs": [
    {
     "data": {
      "text/plain": [
       "Month       0\n",
       "Zone - A    0\n",
       "Zone - B    0\n",
       "Zone - C    0\n",
       "Zone - D    0\n",
       "dtype: int64"
      ]
     },
     "execution_count": 8,
     "metadata": {},
     "output_type": "execute_result"
    }
   ],
   "source": [
    "df.isna().sum()"
   ]
  },
  {
   "cell_type": "markdown",
   "id": "9b12f40a",
   "metadata": {},
   "source": [
    "# 1. Mean sales of each zone"
   ]
  },
  {
   "cell_type": "code",
   "execution_count": 9,
   "id": "8840e0ca",
   "metadata": {},
   "outputs": [
    {
     "data": {
      "text/html": [
       "<div>\n",
       "<style scoped>\n",
       "    .dataframe tbody tr th:only-of-type {\n",
       "        vertical-align: middle;\n",
       "    }\n",
       "\n",
       "    .dataframe tbody tr th {\n",
       "        vertical-align: top;\n",
       "    }\n",
       "\n",
       "    .dataframe thead th {\n",
       "        text-align: right;\n",
       "    }\n",
       "</style>\n",
       "<table border=\"1\" class=\"dataframe\">\n",
       "  <thead>\n",
       "    <tr style=\"text-align: right;\">\n",
       "      <th></th>\n",
       "      <th>zone</th>\n",
       "      <th>mean_sale</th>\n",
       "    </tr>\n",
       "  </thead>\n",
       "  <tbody>\n",
       "    <tr>\n",
       "      <th>0</th>\n",
       "      <td>zone-A</td>\n",
       "      <td>1.540493e+06</td>\n",
       "    </tr>\n",
       "    <tr>\n",
       "      <th>1</th>\n",
       "      <td>zone-b</td>\n",
       "      <td>1.755560e+06</td>\n",
       "    </tr>\n",
       "    <tr>\n",
       "      <th>2</th>\n",
       "      <td>zone-C</td>\n",
       "      <td>1.772871e+06</td>\n",
       "    </tr>\n",
       "    <tr>\n",
       "      <th>3</th>\n",
       "      <td>zone-D</td>\n",
       "      <td>1.842927e+06</td>\n",
       "    </tr>\n",
       "  </tbody>\n",
       "</table>\n",
       "</div>"
      ],
      "text/plain": [
       "     zone     mean_sale\n",
       "0  zone-A  1.540493e+06\n",
       "1  zone-b  1.755560e+06\n",
       "2  zone-C  1.772871e+06\n",
       "3  zone-D  1.842927e+06"
      ]
     },
     "execution_count": 9,
     "metadata": {},
     "output_type": "execute_result"
    }
   ],
   "source": [
    "mean_sale=pd.Series(df.mean().tolist())\n",
    "zone=pd.Series(['zone-A','zone-b','zone-C','zone-D'])\n",
    "meanSale_df=pd.DataFrame({'zone':zone,'mean_sale':mean_sale})\n",
    "meanSale_df"
   ]
  },
  {
   "cell_type": "code",
   "execution_count": 10,
   "id": "5d4172ca",
   "metadata": {},
   "outputs": [
    {
     "data": {
      "image/png": "[encoded data removed]",
      "text/plain": [
       "<Figure size 720x360 with 1 Axes>"
      ]
     },
     "metadata": {
      "needs_background": "light"
     },
     "output_type": "display_data"
    }
   ],
   "source": [
    "plt.figure(figsize=(10,5))\n",
    "plt.title('Mean Sale in each Zones',fontsize=20)\n",
    "plt.xlabel('Zone',fontsize=15)\n",
    "plt.ylabel('Mean Sale',fontsize=15)\n",
    "plt.bar(meanSale_df['zone'],meanSale_df['mean_sale'])\n",
    "plt.show()"
   ]
  },
  {
   "cell_type": "markdown",
   "id": "56941334",
   "metadata": {},
   "source": [
    "# 2. Total sales in each month"
   ]
  },
  {
   "cell_type": "code",
   "execution_count": 11,
   "id": "9c4d91e4",
   "metadata": {},
   "outputs": [],
   "source": [
    "total_sale_monthwise=df.sum(axis=1)"
   ]
  },
  {
   "cell_type": "code",
   "execution_count": 12,
   "id": "e600ef31",
   "metadata": {},
   "outputs": [
    {
     "data": {
      "text/html": [
       "<div>\n",
       "<style scoped>\n",
       "    .dataframe tbody tr th:only-of-type {\n",
       "        vertical-align: middle;\n",
       "    }\n",
       "\n",
       "    .dataframe tbody tr th {\n",
       "        vertical-align: top;\n",
       "    }\n",
       "\n",
       "    .dataframe thead th {\n",
       "        text-align: right;\n",
       "    }\n",
       "</style>\n",
       "<table border=\"1\" class=\"dataframe\">\n",
       "  <thead>\n",
       "    <tr style=\"text-align: right;\">\n",
       "      <th></th>\n",
       "      <th>month</th>\n",
       "      <th>total_sale</th>\n",
       "    </tr>\n",
       "  </thead>\n",
       "  <tbody>\n",
       "    <tr>\n",
       "      <th>0</th>\n",
       "      <td>Month - 1</td>\n",
       "      <td>7022544</td>\n",
       "    </tr>\n",
       "    <tr>\n",
       "      <th>1</th>\n",
       "      <td>Month - 2</td>\n",
       "      <td>7152303</td>\n",
       "    </tr>\n",
       "    <tr>\n",
       "      <th>2</th>\n",
       "      <td>Month - 3</td>\n",
       "      <td>6475939</td>\n",
       "    </tr>\n",
       "    <tr>\n",
       "      <th>3</th>\n",
       "      <td>Month - 4</td>\n",
       "      <td>8174449</td>\n",
       "    </tr>\n",
       "    <tr>\n",
       "      <th>4</th>\n",
       "      <td>Month - 5</td>\n",
       "      <td>5995328</td>\n",
       "    </tr>\n",
       "    <tr>\n",
       "      <th>5</th>\n",
       "      <td>Month - 6</td>\n",
       "      <td>7151387</td>\n",
       "    </tr>\n",
       "    <tr>\n",
       "      <th>6</th>\n",
       "      <td>Month - 7</td>\n",
       "      <td>7287108</td>\n",
       "    </tr>\n",
       "    <tr>\n",
       "      <th>7</th>\n",
       "      <td>Month - 8</td>\n",
       "      <td>7816299</td>\n",
       "    </tr>\n",
       "    <tr>\n",
       "      <th>8</th>\n",
       "      <td>Month - 9</td>\n",
       "      <td>6703395</td>\n",
       "    </tr>\n",
       "    <tr>\n",
       "      <th>9</th>\n",
       "      <td>Month - 10</td>\n",
       "      <td>7128210</td>\n",
       "    </tr>\n",
       "    <tr>\n",
       "      <th>10</th>\n",
       "      <td>Month - 11</td>\n",
       "      <td>7032783</td>\n",
       "    </tr>\n",
       "    <tr>\n",
       "      <th>11</th>\n",
       "      <td>Month - 12</td>\n",
       "      <td>6111084</td>\n",
       "    </tr>\n",
       "    <tr>\n",
       "      <th>12</th>\n",
       "      <td>Month - 13</td>\n",
       "      <td>5925424</td>\n",
       "    </tr>\n",
       "    <tr>\n",
       "      <th>13</th>\n",
       "      <td>Month - 14</td>\n",
       "      <td>7155515</td>\n",
       "    </tr>\n",
       "    <tr>\n",
       "      <th>14</th>\n",
       "      <td>Month - 15</td>\n",
       "      <td>5934156</td>\n",
       "    </tr>\n",
       "    <tr>\n",
       "      <th>15</th>\n",
       "      <td>Month - 16</td>\n",
       "      <td>6506659</td>\n",
       "    </tr>\n",
       "    <tr>\n",
       "      <th>16</th>\n",
       "      <td>Month - 17</td>\n",
       "      <td>7149383</td>\n",
       "    </tr>\n",
       "    <tr>\n",
       "      <th>17</th>\n",
       "      <td>Month - 18</td>\n",
       "      <td>7083490</td>\n",
       "    </tr>\n",
       "    <tr>\n",
       "      <th>18</th>\n",
       "      <td>Month - 19</td>\n",
       "      <td>6971953</td>\n",
       "    </tr>\n",
       "    <tr>\n",
       "      <th>19</th>\n",
       "      <td>Month - 20</td>\n",
       "      <td>7124599</td>\n",
       "    </tr>\n",
       "    <tr>\n",
       "      <th>20</th>\n",
       "      <td>Month - 21</td>\n",
       "      <td>7389597</td>\n",
       "    </tr>\n",
       "    <tr>\n",
       "      <th>21</th>\n",
       "      <td>Month - 22</td>\n",
       "      <td>7560001</td>\n",
       "    </tr>\n",
       "    <tr>\n",
       "      <th>22</th>\n",
       "      <td>Month - 23</td>\n",
       "      <td>6687919</td>\n",
       "    </tr>\n",
       "    <tr>\n",
       "      <th>23</th>\n",
       "      <td>Month - 24</td>\n",
       "      <td>7784747</td>\n",
       "    </tr>\n",
       "    <tr>\n",
       "      <th>24</th>\n",
       "      <td>Month - 25</td>\n",
       "      <td>6095918</td>\n",
       "    </tr>\n",
       "    <tr>\n",
       "      <th>25</th>\n",
       "      <td>Month - 26</td>\n",
       "      <td>6512360</td>\n",
       "    </tr>\n",
       "    <tr>\n",
       "      <th>26</th>\n",
       "      <td>Month - 27</td>\n",
       "      <td>6267918</td>\n",
       "    </tr>\n",
       "    <tr>\n",
       "      <th>27</th>\n",
       "      <td>Month - 28</td>\n",
       "      <td>7470920</td>\n",
       "    </tr>\n",
       "    <tr>\n",
       "      <th>28</th>\n",
       "      <td>Month - 29</td>\n",
       "      <td>6772277</td>\n",
       "    </tr>\n",
       "  </tbody>\n",
       "</table>\n",
       "</div>"
      ],
      "text/plain": [
       "         month  total_sale\n",
       "0    Month - 1     7022544\n",
       "1    Month - 2     7152303\n",
       "2    Month - 3     6475939\n",
       "3    Month - 4     8174449\n",
       "4    Month - 5     5995328\n",
       "5    Month - 6     7151387\n",
       "6    Month - 7     7287108\n",
       "7    Month - 8     7816299\n",
       "8    Month - 9     6703395\n",
       "9   Month - 10     7128210\n",
       "10  Month - 11     7032783\n",
       "11  Month - 12     6111084\n",
       "12  Month - 13     5925424\n",
       "13  Month - 14     7155515\n",
       "14  Month - 15     5934156\n",
       "15  Month - 16     6506659\n",
       "16  Month - 17     7149383\n",
       "17  Month - 18     7083490\n",
       "18  Month - 19     6971953\n",
       "19  Month - 20     7124599\n",
       "20  Month - 21     7389597\n",
       "21  Month - 22     7560001\n",
       "22  Month - 23     6687919\n",
       "23  Month - 24     7784747\n",
       "24  Month - 25     6095918\n",
       "25  Month - 26     6512360\n",
       "26  Month - 27     6267918\n",
       "27  Month - 28     7470920\n",
       "28  Month - 29     6772277"
      ]
     },
     "execution_count": 12,
     "metadata": {},
     "output_type": "execute_result"
    }
   ],
   "source": [
    "totalSale_df=pd.DataFrame({'month':df['Month'],'total_sale':total_sale_monthwise})\n",
    "totalSale_df"
   ]
  },
  {
   "cell_type": "code",
   "execution_count": 13,
   "id": "99329133",
   "metadata": {},
   "outputs": [
    {
     "data": {
      "image/png": "[encoded data removed]",
      "text/plain": [
       "<Figure size 1080x360 with 1 Axes>"
      ]
     },
     "metadata": {
      "needs_background": "light"
     },
     "output_type": "display_data"
    }
   ],
   "source": [
    "plt.figure(figsize=(15,5))\n",
    "plt.title('Total Sales in each Month',fontsize=20)\n",
    "plt.plot(totalSale_df['month'],totalSale_df['total_sale'],c='g')\n",
    "plt.scatter(totalSale_df['month'],totalSale_df['total_sale'],c='r')\n",
    "plt.xlabel('Month',fontsize=15)\n",
    "plt.ylabel('Total Sale',fontsize=15)\n",
    "plt.xticks(rotation=90)\n",
    "plt.show()"
   ]
  },
  {
   "cell_type": "markdown",
   "id": "d73fc438",
   "metadata": {},
   "source": [
    "# 3. Check whether all the zones generate the same amount of sales"
   ]
  },
  {
   "cell_type": "markdown",
   "id": "93a33f11",
   "metadata": {},
   "source": [
    "Here we are using the one way ANOVA\n",
    "\n",
    "H0: All the zones generate same amount of sales\n",
    "\n",
    "H1: The amount of sales is different for atleast one zone\n",
    "\n",
    "sig.level= 0.05"
   ]
  },
  {
   "cell_type": "code",
   "execution_count": 14,
   "id": "f105908a",
   "metadata": {},
   "outputs": [
    {
     "name": "stdout",
     "output_type": "stream",
     "text": [
      "Test statistic value =  5.672056106843581\n",
      "The p value =  0.0011827601694503335\n",
      "We reject the null hypothesis\n"
     ]
    }
   ],
   "source": [
    "test_stat,p_value=stat.f_oneway(df['Zone - A'],df['Zone - B'],df['Zone - C'],df['Zone - D'])\n",
    "print('Test statistic value = ',test_stat)\n",
    "print('The p value = ',p_value)\n",
    "if p_value<0.05:\n",
    "    print('We reject the null hypothesis')\n",
    "else:\n",
    "    print('We failed to reject the null hypothesis')"
   ]
  },
  {
   "cell_type": "markdown",
   "id": "2a79b185",
   "metadata": {},
   "source": [
    "The sales generated by all the zones are not the same"
   ]
  },
  {
   "cell_type": "code",
   "execution_count": null,
   "id": "1e388f18",
   "metadata": {},
   "outputs": [],
   "source": []
  }
 ],
 "metadata": {
  "kernelspec": {
   "display_name": "Python 3",
   "language": "python",
   "name": "python3"
  },
  "language_info": {
   "codemirror_mode": {
    "name": "ipython",
    "version": 3
   },
   "file_extension": ".py",
   "mimetype": "text/x-python",
   "name": "python",
   "nbconvert_exporter": "python",
   "pygments_lexer": "ipython3",
   "version": "3.8.8"
  }
 },
 "nbformat": 4,
 "nbformat_minor": 5
}
